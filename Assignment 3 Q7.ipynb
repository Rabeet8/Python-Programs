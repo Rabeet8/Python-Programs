{
 "cells": [
  {
   "cell_type": "code",
   "execution_count": 1,
   "metadata": {},
   "outputs": [
    {
     "name": "stdout",
     "output_type": "stream",
     "text": [
      "Grade B\n"
     ]
    }
   ],
   "source": [
    "isl = 60\n",
    "eng = 50\n",
    "maths = 55\n",
    "phy = 89\n",
    "chem = 70\n",
    "B = isl+eng+maths+phy+chem\n",
    "M = 500\n",
    "Perc = B/M *100\n",
    "if (Perc >=80 and Perc <100):\n",
    "    print('Grade A+')\n",
    "elif Perc >=70:\n",
    "    print('Grade A')\n",
    "elif Perc >=60:    \n",
    "    print('Grade B')\n",
    "elif Perc >=50:   \n",
    "    print('Grade C')\n",
    "elif Perc >=40:    \n",
    "    print('Grade D')\n",
    "elif Perc >=33:    \n",
    "    print('Grade E')\n",
    "else:    \n",
    "    print('Fail')\n",
    "\n",
    "\n",
    "\n"
   ]
  },
  {
   "cell_type": "code",
   "execution_count": null,
   "metadata": {},
   "outputs": [],
   "source": []
  }
 ],
 "metadata": {
  "kernelspec": {
   "display_name": "Python 3",
   "language": "python",
   "name": "python3"
  },
  "language_info": {
   "codemirror_mode": {
    "name": "ipython",
    "version": 3
   },
   "file_extension": ".py",
   "mimetype": "text/x-python",
   "name": "python",
   "nbconvert_exporter": "python",
   "pygments_lexer": "ipython3",
   "version": "3.8.5"
  }
 },
 "nbformat": 4,
 "nbformat_minor": 4
}
